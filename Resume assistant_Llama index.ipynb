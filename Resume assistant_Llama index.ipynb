{
 "cells": [
  {
   "cell_type": "code",
   "execution_count": null,
   "id": "7fa01421-d481-42c6-acde-1bbecf314314",
   "metadata": {},
   "outputs": [],
   "source": [
    "import os\n",
    "os.environ[\"OPENAI_API_KEY\"]=\" \""
   ]
  },
  {
   "cell_type": "code",
   "execution_count": 2,
   "id": "dcec8a49-00dd-467f-bc34-8f9d40908ea6",
   "metadata": {},
   "outputs": [],
   "source": [
    "!pip install llama_index -q\n",
    "import llama_index"
   ]
  },
  {
   "cell_type": "code",
   "execution_count": 7,
   "id": "25ab7e6d-349f-4ee5-8059-9f3fb0fcbfaa",
   "metadata": {},
   "outputs": [],
   "source": [
    "# from llama_index.core import SimpleDirectoryReader\n",
    "# documents = SimpleDirectoryReader(\"D:\\\\main project\\\\resumes zip_files.zip\",recursive=True).load_data()"
   ]
  },
  {
   "cell_type": "code",
   "execution_count": 8,
   "id": "d49e53fe-31e9-452d-b37c-f8d4d147d5e9",
   "metadata": {},
   "outputs": [],
   "source": [
    "import zipfile\n",
    "import os\n",
    "from llama_index.core import SimpleDirectoryReader\n",
    "\n",
    "# Path to the zip file and directory to extract it to\n",
    "zip_path = \"C:\\\\Users\\\\HP\\\\OneDrive\\\\Desktop\\\\Internship\\\\resumes zip_files.zip\"\n",
    "extract_dir = \"C:\\\\Users\\\\HP\\\\OneDrive\\\\Desktop\\\\Internship\\\\extracted_resumes\"\n",
    "\n",
    "# Extract the zip file\n",
    "with zipfile.ZipFile(zip_path, 'r') as zip_ref:\n",
    "    zip_ref.extractall(extract_dir)\n",
    "\n",
    "# Now use SimpleDirectoryReader on the extracted directory\n",
    "documents = SimpleDirectoryReader(extract_dir, recursive=True).load_data()\n"
   ]
  },
  {
   "cell_type": "code",
   "execution_count": 9,
   "id": "d207954c-6a7c-4aa4-98b8-9e63cf3358b5",
   "metadata": {},
   "outputs": [],
   "source": [
    "from llama_index.core import VectorStoreIndex\n",
    "index = VectorStoreIndex.from_documents(documents)\n",
    "query_engine = index.as_query_engine(similarity_top_k=25)"
   ]
  },
  {
   "cell_type": "code",
   "execution_count": 10,
   "id": "320faaca-bb47-41a3-84a3-d3b7e94b37cd",
   "metadata": {},
   "outputs": [],
   "source": [
    "def get_results(query_string):\n",
    "    response = query_engine.query(query_string)\n",
    "    return response.response"
   ]
  },
  {
   "cell_type": "code",
   "execution_count": null,
   "id": "88780b59-6f93-413a-b016-cfbbdcc10483",
   "metadata": {},
   "outputs": [
    {
     "name": "stdout",
     "output_type": "stream",
     "text": [
      " * Serving Flask app '__main__'\n",
      " * Debug mode: off\n"
     ]
    },
    {
     "name": "stderr",
     "output_type": "stream",
     "text": [
      "WARNING: This is a development server. Do not use it in a production deployment. Use a production WSGI server instead.\n",
      " * Running on http://127.0.0.1:5000\n",
      "Press CTRL+C to quit\n",
      "127.0.0.1 - - [14/Nov/2024 10:27:52] \"GET / HTTP/1.1\" 404 -\n",
      "127.0.0.1 - - [14/Nov/2024 10:27:52] \"GET /favicon.ico HTTP/1.1\" 404 -\n",
      "127.0.0.1 - - [14/Nov/2024 10:29:21] \"GET /ask_documents/names HTTP/1.1\" 404 -\n",
      "127.0.0.1 - - [14/Nov/2024 10:30:43] \"GET /ask_documents/?q=give%20me%20resume%20names HTTP/1.1\" 200 -\n",
      "127.0.0.1 - - [14/Nov/2024 10:38:58] \"GET / HTTP/1.1\" 404 -\n",
      "127.0.0.1 - - [14/Nov/2024 10:46:35] \"GET /data/2 HTTP/1.1\" 404 -\n"
     ]
    }
   ],
   "source": [
    "from flask import Flask, request, jsonify\n",
    "app = Flask(__name__,\n",
    "            static_url_path='', \n",
    "            static_folder='',\n",
    "            template_folder='')\n",
    "\n",
    "@app.route('/search/', methods = ['GET'])\n",
    "def any_name():\n",
    "   if request.method == 'GET':\n",
    "      name=request.args.get('q')\n",
    "      result = \"Good morning \" + name\n",
    "      return jsonify({\"code\":0,\"message\":result})\n",
    "\n",
    "@app.route('/ask_documents/', methods = ['GET'])\n",
    "def a_documents():\n",
    "   if request.method == 'GET':\n",
    "      q_name=request.args.get('q')\n",
    "      resp= get_results(q_name)\n",
    "      return jsonify({\"code\":0,\"message\":resp})\n",
    "\n",
    "@app.route('/p_search/', methods = ['POST'])\n",
    "def any_name_p():\n",
    "   if request.method == 'POST':\n",
    "      name=request.form('q')\n",
    "      result = \"Good morning \" + name\n",
    "      return jsonify({\"code\":0,\"message\":result})\n",
    "\n",
    "if __name__ == \"__main__\":    \n",
    "    app.debug=False\n",
    "    app.run(host=\"127.0.0.1\",port=5000) #192.168.1.22 # any number greater than 1028"
   ]
  },
  {
   "cell_type": "code",
   "execution_count": null,
   "id": "5929d0ea-0894-4440-8735-6c68164bddfa",
   "metadata": {},
   "outputs": [],
   "source": [
    "# http://127.0.0.1:5000/ask_documents/?q"
   ]
  }
 ],
 "metadata": {
  "kernelspec": {
   "display_name": "Python 3 (ipykernel)",
   "language": "python",
   "name": "python3"
  },
  "language_info": {
   "codemirror_mode": {
    "name": "ipython",
    "version": 3
   },
   "file_extension": ".py",
   "mimetype": "text/x-python",
   "name": "python",
   "nbconvert_exporter": "python",
   "pygments_lexer": "ipython3",
   "version": "3.12.4"
  }
 },
 "nbformat": 4,
 "nbformat_minor": 5
}
